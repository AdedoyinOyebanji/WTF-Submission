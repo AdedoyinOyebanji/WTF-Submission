{
 "cells": [
  {
   "cell_type": "code",
   "execution_count": 72,
   "id": "e50ae54e",
   "metadata": {},
   "outputs": [],
   "source": [
    "#1 Print all elements of a list using for loop.\n"
   ]
  },
  {
   "cell_type": "code",
   "execution_count": 73,
   "id": "b397f963",
   "metadata": {},
   "outputs": [
    {
     "name": "stdout",
     "output_type": "stream",
     "text": [
      "Dee\n",
      "Ajoke\n",
      "Adeola\n",
      "Adedoyin\n",
      "Lilian\n",
      "Patience\n"
     ]
    }
   ],
   "source": [
    "girls= [\"Dee\", \"Ajoke\", \"Adeola\", \"Adedoyin\", \"Lilian\", \"Patience\"]\n",
    "for x in girls:\n",
    "    print(x)"
   ]
  },
  {
   "cell_type": "code",
   "execution_count": 74,
   "id": "b1ed1baa",
   "metadata": {},
   "outputs": [
    {
     "data": {
      "text/plain": [
       "' Using range(1,101), make two list, one containing all even numbers and\\nother containing all odd numbers.\\n'"
      ]
     },
     "execution_count": 74,
     "metadata": {},
     "output_type": "execute_result"
    }
   ],
   "source": [
    "\"\"\"2)\n",
    "Using range(1,101), make two list, one containing all even numbers and\n",
    "other containing all odd numbers.\n",
    "\"\"\""
   ]
  },
  {
   "cell_type": "code",
   "execution_count": 79,
   "id": "f68e5833",
   "metadata": {},
   "outputs": [
    {
     "data": {
      "text/plain": [
       "array([  1,   2,   3,   4,   5,   6,   7,   8,   9,  10,  11,  12,  13,\n",
       "        14,  15,  16,  17,  18,  19,  20,  21,  22,  23,  24,  25,  26,\n",
       "        27,  28,  29,  30,  31,  32,  33,  34,  35,  36,  37,  38,  39,\n",
       "        40,  41,  42,  43,  44,  45,  46,  47,  48,  49,  50,  51,  52,\n",
       "        53,  54,  55,  56,  57,  58,  59,  60,  61,  62,  63,  64,  65,\n",
       "        66,  67,  68,  69,  70,  71,  72,  73,  74,  75,  76,  77,  78,\n",
       "        79,  80,  81,  82,  83,  84,  85,  86,  87,  88,  89,  90,  91,\n",
       "        92,  93,  94,  95,  96,  97,  98,  99, 100])"
      ]
     },
     "execution_count": 79,
     "metadata": {},
     "output_type": "execute_result"
    }
   ],
   "source": [
    "\n",
    "import numpy as np\n",
    "np.arange(1,101)"
   ]
  },
  {
   "cell_type": "code",
   "execution_count": 76,
   "id": "97395c7c",
   "metadata": {},
   "outputs": [
    {
     "data": {
      "text/plain": [
       "array([ 1,  3,  5,  7,  9, 11, 13, 15, 17, 19, 21, 23, 25, 27, 29, 31, 33,\n",
       "       35, 37, 39, 41, 43, 45, 47, 49, 51, 53, 55, 57, 59, 61, 63, 65, 67,\n",
       "       69, 71, 73, 75, 77, 79, 81, 83, 85, 87, 89, 91, 93, 95, 97, 99])"
      ]
     },
     "execution_count": 76,
     "metadata": {},
     "output_type": "execute_result"
    }
   ],
   "source": [
    "np.arange(1,101,2)"
   ]
  },
  {
   "cell_type": "code",
   "execution_count": 77,
   "id": "0aeab301",
   "metadata": {},
   "outputs": [
    {
     "data": {
      "text/plain": [
       "array([  0,   2,   4,   6,   8,  10,  12,  14,  16,  18,  20,  22,  24,\n",
       "        26,  28,  30,  32,  34,  36,  38,  40,  42,  44,  46,  48,  50,\n",
       "        52,  54,  56,  58,  60,  62,  64,  66,  68,  70,  72,  74,  76,\n",
       "        78,  80,  82,  84,  86,  88,  90,  92,  94,  96,  98, 100])"
      ]
     },
     "execution_count": 77,
     "metadata": {},
     "output_type": "execute_result"
    }
   ],
   "source": [
    "np.arange(0,101,2)"
   ]
  },
  {
   "cell_type": "code",
   "execution_count": 78,
   "id": "d04378aa",
   "metadata": {},
   "outputs": [],
   "source": [
    "##Take input of age of 3 people by user and determine oldest and youngest among them."
   ]
  },
  {
   "cell_type": "code",
   "execution_count": 85,
   "id": "3431953b",
   "metadata": {},
   "outputs": [
    {
     "name": "stdout",
     "output_type": "stream",
     "text": [
      "What is your age? 10\n"
     ]
    }
   ],
   "source": [
    "age = int(input(\"What is your age? \"))\n",
    "if age== 12:\n",
    "    print(\"You are the oldest\")\n",
    "elif age< 9 :\n",
    "    print(\"You are  the youngest \")\n"
   ]
  },
  {
   "cell_type": "code",
   "execution_count": null,
   "id": "e36d5edc",
   "metadata": {},
   "outputs": [],
   "source": [
    "###Write a Python script to merge two Python dictionaries\n"
   ]
  },
  {
   "cell_type": "code",
   "execution_count": 45,
   "id": "de453ae6",
   "metadata": {},
   "outputs": [
    {
     "data": {
      "text/plain": [
       "'Tech4Dev ={\"names\": \"Kenny\", \\n           \"Adeola\",\"Adenike\",\"Adeola\", \"Abiola\", \"Abosede\", \"Adedoyin\",\\n           \"courses\": \"DataScience\", \"Web_Dev\", \"Product_Design\", \"UIUX\",\"CyberSecurity\",\"Virtual_reality\",\"Graphics\"}\\n           '"
      ]
     },
     "execution_count": 45,
     "metadata": {},
     "output_type": "execute_result"
    }
   ],
   "source": [
    "'''Tech4Dev ={\"names\": \"Kenny\", \n",
    "           \"Adeola\",\"Adenike\",\"Adeola\", \"Abiola\", \"Abosede\", \"Adedoyin\",\n",
    "           \"courses\": \"DataScience\", \"Web_Dev\", \"Product_Design\", \"UIUX\",\"CyberSecurity\",\"Virtual_reality\",\"Graphics\"}\n",
    "           '''"
   ]
  },
  {
   "cell_type": "code",
   "execution_count": 91,
   "id": "480fc603",
   "metadata": {},
   "outputs": [
    {
     "data": {
      "text/plain": [
       "{'names': 'Kenny', 'courses': 'DataScience'}"
      ]
     },
     "execution_count": 91,
     "metadata": {},
     "output_type": "execute_result"
    }
   ],
   "source": [
    "Tech4Dev ={\"names\": \"Kenny\", \n",
    "           \"courses\": \"DataScience\"}\n",
    "\n",
    "\n",
    "Tech4Dev"
   ]
  },
  {
   "cell_type": "code",
   "execution_count": 93,
   "id": "85f835a3",
   "metadata": {},
   "outputs": [
    {
     "data": {
      "text/plain": [
       "{'girls': 'Dee'}"
      ]
     },
     "execution_count": 93,
     "metadata": {},
     "output_type": "execute_result"
    }
   ],
   "source": [
    "colors = {\"girls\": \"Dee\"}\n",
    "colors"
   ]
  },
  {
   "cell_type": "code",
   "execution_count": 97,
   "id": "6d6d63bf",
   "metadata": {},
   "outputs": [],
   "source": [
    "x = Tech4Dev.update(colors)\n",
    "x"
   ]
  },
  {
   "cell_type": "code",
   "execution_count": 108,
   "id": "a6797f08",
   "metadata": {},
   "outputs": [
    {
     "data": {
      "text/plain": [
       "'A company decided to give bonus of 5% to employee if his/her year of service is more than 5\\nyears. Ask user for their salary and year of service and print the net bonus amount\\n'"
      ]
     },
     "execution_count": 108,
     "metadata": {},
     "output_type": "execute_result"
    }
   ],
   "source": [
    "'''A company decided to give bonus of 5% to employee if his/her year of service is more than 5\n",
    "years. Ask user for their salary and year of service and print the net bonus amount\n",
    "'''"
   ]
  },
  {
   "cell_type": "code",
   "execution_count": null,
   "id": "dac8337e",
   "metadata": {},
   "outputs": [],
   "source": [
    "name = input(\"What is your name ? \")\n",
    "salary = int(input(\"What is your salary ? \" + \"k\" )\n",
    "x = int(input(\"How many years of service do you have ? \"))\n",
    "             \n",
    "if year < 5:\n",
    "    print(\"No Bonus\")\n",
    "else:\n",
    "    print(\"Your net bonus is 5% \" + name)"
   ]
  },
  {
   "cell_type": "code",
   "execution_count": 90,
   "id": "e7c5fa2d",
   "metadata": {},
   "outputs": [],
   "source": [
    "## Write a Python program to remove a key from a dictionary."
   ]
  },
  {
   "cell_type": "code",
   "execution_count": 68,
   "id": "da712702",
   "metadata": {},
   "outputs": [
    {
     "data": {
      "text/plain": [
       "'DataScience'"
      ]
     },
     "execution_count": 68,
     "metadata": {},
     "output_type": "execute_result"
    }
   ],
   "source": [
    "Tech4Dev.pop(\"courses\")"
   ]
  },
  {
   "cell_type": "code",
   "execution_count": 66,
   "id": "bab73260",
   "metadata": {},
   "outputs": [
    {
     "data": {
      "text/plain": [
       "{'glory': 'Kenny'}"
      ]
     },
     "execution_count": 66,
     "metadata": {},
     "output_type": "execute_result"
    }
   ],
   "source": [
    "Tech4Dev\n"
   ]
  },
  {
   "cell_type": "code",
   "execution_count": null,
   "id": "62e6a81e",
   "metadata": {},
   "outputs": [],
   "source": [
    "\n",
    "\n",
    "## Write a Python program to get the largest number from a list"
   ]
  },
  {
   "cell_type": "code",
   "execution_count": 71,
   "id": "426a7d71",
   "metadata": {},
   "outputs": [
    {
     "data": {
      "text/plain": [
       "array([ 1,  2,  3,  4,  5,  6,  7,  8,  9, 10, 11, 12, 13, 14, 15, 16, 17,\n",
       "       18, 19, 20, 21, 22, 23, 24, 25, 26, 27, 28, 29, 30, 31, 32, 33, 34,\n",
       "       35, 36, 37, 38, 39, 40, 41, 42, 43, 44, 45, 46, 47, 48, 49, 50, 51,\n",
       "       52, 53, 54, 55, 56, 57, 58, 59, 60, 61, 62, 63, 64, 65, 66, 67, 68,\n",
       "       69, 70, 71, 72, 73, 74, 75, 76, 77, 78, 79, 80, 81, 82, 83, 84, 85,\n",
       "       86, 87, 88, 89, 90, 91, 92, 93, 94, 95, 96, 97, 98, 99])"
      ]
     },
     "execution_count": 71,
     "metadata": {},
     "output_type": "execute_result"
    }
   ],
   "source": [
    "num = np.arange(1,100)\n",
    "num"
   ]
  },
  {
   "cell_type": "code",
   "execution_count": 72,
   "id": "57f9e032",
   "metadata": {},
   "outputs": [
    {
     "data": {
      "text/plain": [
       "99"
      ]
     },
     "execution_count": 72,
     "metadata": {},
     "output_type": "execute_result"
    }
   ],
   "source": [
    "max(num)"
   ]
  },
  {
   "cell_type": "code",
   "execution_count": 104,
   "id": "2c051e93",
   "metadata": {},
   "outputs": [
    {
     "name": "stdout",
     "output_type": "stream",
     "text": [
      "What is your name ? Patience\n",
      "What is Your Score 99\n",
      "Well done, this is an A Patience\n"
     ]
    }
   ],
   "source": [
    "#grades\n",
    "\n",
    "name= input(\"What is your name ? \") \n",
    "gradeScore = int(input(\"What is Your Score \"))\n",
    "\n",
    "if gradeScore > 80:\n",
    "    print(\"Well done, this is an A\" + \" \" + name)\n",
    "elif gradescore <80 and gradeScore > 60:\n",
    "    print(\"You had a B\" + \" \" + name)\n",
    "elif gradescore < 60 and gradeScore > 50:\n",
    "    print(\"You had a C\" + \" \" + name)\n",
    "elif gradescore < 50 and gradeScore > 45:\n",
    "    print(\"You had a D\" + \" \" + name)\n",
    "elif gradescore <45 and gradeScore > 25:\n",
    "    print(\"You had an E\" + \" \" + name)\n",
    "elif gradescore <25:\n",
    "    print(\"You had a F\" + \" \" + name)"
   ]
  },
  {
   "cell_type": "code",
   "execution_count": null,
   "id": "3a38c0d5",
   "metadata": {},
   "outputs": [],
   "source": []
  },
  {
   "cell_type": "code",
   "execution_count": null,
   "id": "3e06e133",
   "metadata": {},
   "outputs": [],
   "source": []
  }
 ],
 "metadata": {
  "kernelspec": {
   "display_name": "Python 3 (ipykernel)",
   "language": "python",
   "name": "python3"
  },
  "language_info": {
   "codemirror_mode": {
    "name": "ipython",
    "version": 3
   },
   "file_extension": ".py",
   "mimetype": "text/x-python",
   "name": "python",
   "nbconvert_exporter": "python",
   "pygments_lexer": "ipython3",
   "version": "3.9.7"
  }
 },
 "nbformat": 4,
 "nbformat_minor": 5
}
